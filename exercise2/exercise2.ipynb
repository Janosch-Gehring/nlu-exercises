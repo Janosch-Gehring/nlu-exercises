{
 "cells": [
  {
   "cell_type": "markdown",
   "id": "3b1e33c8-eb4d-4e2e-91d7-cbd16845e413",
   "metadata": {},
   "source": [
    "# Week 3 Exercise\n",
    "\n",
    "In this exercise, we will examine a small dataset with a FrameNet parser.\n",
    "\n",
    "We will:\n",
    "* Read a text dataset\n",
    "* Analyze agent and patient roles with the FrameNet parser\n",
    "* Compare frame roles in different kinds of texts\n",
    "\n",
    "Our theme today will be *how people talk about GPT-5*. We often use models as the agent with verbs like *write*, *think*, *reason* or *want*, and as the patient with verbs like *ask*. It can sometimes sound like we think of it more as a human than as a machine. So let's see if that is analyzable using a FrameNet parser.\n",
    "\n",
    "First things first: You need the requirement frame-semantic-transformer: https://frame-semantic-transformer.readthedocs.io/en/latest/\n",
    "If you have issues installing it, maybe switching to Python <3.12 helps.\n",
    "\n",
    "There is also a .csv dataset included, containing paragraphs of text from 3 domains:\n",
    "* Blog posts\n",
    "* GPT-5 System card\n",
    "* OpenAI website\n",
    "\n",
    "Make yourself familiar with it, then write code to read the dataset."
   ]
  },
  {
   "cell_type": "code",
   "execution_count": null,
   "id": "452104f5-5422-4230-8396-16f9eaf07451",
   "metadata": {},
   "outputs": [],
   "source": [
    "# Your code here"
   ]
  },
  {
   "cell_type": "markdown",
   "id": "b46ea5b5-3c5a-46e6-b91c-af5d836c4267",
   "metadata": {},
   "source": [
    "Next, use the frame-semantic-transformer library to write a function that takes some natural language text string as input, parses it and returns some  output representation that lets you see where the frame elements are located in the sentence.\n",
    "\n",
    "See https://github.com/chanind/frame-semantic-transformer for information"
   ]
  },
  {
   "cell_type": "code",
   "execution_count": null,
   "id": "4bcf5aa2-1ac1-4865-8f63-1058fb2ed9fb",
   "metadata": {},
   "outputs": [],
   "source": [
    "from frame_semantic_transformer import FrameSemanticTransformer\n",
    "\n",
    "def parse_sentence(sentence):\n",
    "    frame_transformer = FrameSemanticTransformer()\n",
    "    # Your code here\n",
    "    \n",
    "# test it\n",
    "sentence = \"The bird thinks about the forest.\"\n",
    "print(parse_sentence(sentence))"
   ]
  },
  {
   "cell_type": "markdown",
   "id": "d17c27ad-fe40-482b-98b5-b3ca761afd78",
   "metadata": {},
   "source": [
    "Now let's move on to the main task:\n",
    "\n",
    "# Task 1:\n",
    "\n",
    "Analyze in what semantic roles people use \"GPT-5\". Write a script that returns the most common frame elements of \"GPT-5\" for each of the three domains. (Note that GPT-5 is also sometimes referred to as GPT5, gpt, gpt-5-main, ...)\n",
    "\n",
    "(While you're at it, you may want to also keep track of the frames that appear for later)"
   ]
  },
  {
   "cell_type": "code",
   "execution_count": null,
   "id": "af9dd441-6b10-46e9-998d-8d032e01ddf8",
   "metadata": {
    "scrolled": true
   },
   "outputs": [],
   "source": [
    "# Your code here"
   ]
  },
  {
   "cell_type": "markdown",
   "id": "071e9500-1a43-40e8-9d88-0dbeb35c4656",
   "metadata": {},
   "source": [
    "# Task 2:\n",
    "\n",
    "What can you learn from the results? For example, regarding...\n",
    "- the attributes implied by the semantic roles (e.g. human-like vs. machine-like)\n",
    "- the differences between the language used in the domains\n",
    "- FrameNet itself?\n",
    "\n",
    "# Your answer:"
   ]
  },
  {
   "cell_type": "markdown",
   "id": "f1733529-ba7d-4a7a-a82f-922d825d9b18",
   "metadata": {},
   "source": [
    " "
   ]
  },
  {
   "cell_type": "markdown",
   "id": "9d589751-c91f-46be-af4c-b77dc7e632c0",
   "metadata": {},
   "source": [
    "# Task 3\n",
    "\n",
    "FrameNet frames can be quite specific, but there is some hierarchy to them, seen with inheritance in frame-frame relations. Let's remove one layer of specificity. Use the nltk library to find the parent frames of the frames that appear in the three domains.\n",
    "\n",
    "FrameNet nltk can be accessed via nltk.corpus.framenet. You have to install nltk, too.\n",
    "\n",
    "To reiterate, the task is to return the frequencies of *parents of frames* that occur in the three domains. For example, how often does a frame appear that has \"Capability\" as a parent frame? (If you kept track of the frames that appeared alongside GPT-5 in the first task, you can also re-use that instead of re-calculating everything)\n",
    "\n",
    "Hint: How to extract frame relations from a frame is mentioned here https://www.nltk.org/howto/framenet.html\n"
   ]
  },
  {
   "cell_type": "code",
   "execution_count": 1,
   "id": "a50d3bc4-f77d-4ef7-a5f1-b9f44baff243",
   "metadata": {
    "scrolled": true
   },
   "outputs": [],
   "source": [
    "# Your code here"
   ]
  },
  {
   "cell_type": "markdown",
   "id": "af9c4de9-cd4e-4050-a20e-63c51ec27ff3",
   "metadata": {},
   "source": [
    "# Task 4\n",
    "\n",
    "Now you should have a list of the occurences of abstracted frames in all three domains. As a quick final question, does this list tell you anything about the content and focus of the texts?\n",
    "\n",
    "## Your answer"
   ]
  },
  {
   "cell_type": "markdown",
   "id": "2943508c-d4f6-4517-ac04-1acb5a9eabf9",
   "metadata": {},
   "source": [
    " "
   ]
  }
 ],
 "metadata": {
  "kernelspec": {
   "display_name": "Python 3 (ipykernel)",
   "language": "python",
   "name": "python3"
  },
  "language_info": {
   "codemirror_mode": {
    "name": "ipython",
    "version": 3
   },
   "file_extension": ".py",
   "mimetype": "text/x-python",
   "name": "python",
   "nbconvert_exporter": "python",
   "pygments_lexer": "ipython3",
   "version": "3.11.14"
  }
 },
 "nbformat": 4,
 "nbformat_minor": 5
}
